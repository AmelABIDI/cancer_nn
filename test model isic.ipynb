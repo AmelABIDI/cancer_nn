{
 "cells": [
  {
   "cell_type": "code",
   "execution_count": 127,
   "metadata": {},
   "outputs": [],
   "source": [
    "%matplotlib inline\n",
    "import pickle\n",
    "import tensorflow as tf\n",
    "import numpy as np\n",
    "import matplotlib.pyplot as plt\n",
    "import prettytensor as pt"
   ]
  },
  {
   "cell_type": "code",
   "execution_count": 128,
   "metadata": {
    "collapsed": true
   },
   "outputs": [],
   "source": [
    "rows, cols = 70, 100\n",
    "img_shape = (rows, cols)\n",
    "img_flat_size = rows * cols\n",
    "img_classes = 3\n",
    "img_channels = 3"
   ]
  },
  {
   "cell_type": "code",
   "execution_count": 129,
   "metadata": {
    "collapsed": true
   },
   "outputs": [],
   "source": [
    "resized_folder_path = \"/home/openroot/Tanmoy/Working Stuffs/myStuffs/havss-tf/ISIC-2017/resized/\""
   ]
  },
  {
   "cell_type": "code",
   "execution_count": 130,
   "metadata": {},
   "outputs": [
    {
     "name": "stdout",
     "output_type": "stream",
     "text": [
      "Training Set (1688, 70, 100, 3) (1688, 3)\n",
      "Test Set (300, 70, 100, 3) (300, 3)\n"
     ]
    },
    {
     "data": {
      "text/plain": [
       "array([[ 1.,  0.,  0.],\n",
       "       [ 1.,  0.,  0.],\n",
       "       [ 0.,  0.,  1.],\n",
       "       [ 1.,  0.,  0.],\n",
       "       [ 0.,  0.,  1.],\n",
       "       [ 1.,  0.,  0.],\n",
       "       [ 1.,  0.,  0.],\n",
       "       [ 1.,  0.,  0.],\n",
       "       [ 1.,  0.,  0.],\n",
       "       [ 1.,  0.,  0.]])"
      ]
     },
     "execution_count": 130,
     "metadata": {},
     "output_type": "execute_result"
    }
   ],
   "source": [
    "isic_pickle_file = resized_folder_path + \"ISIC.pickle\"\n",
    "with open(isic_pickle_file, \"rb\") as f:\n",
    "    save = pickle.load(f)\n",
    "    train_dataset =  save[\"train_dataset\"]\n",
    "    train_labels =  save[\"train_labels\"]\n",
    "    test_dataset =  save[\"test_dataset\"]\n",
    "    test_labels =  save[\"test_labels\"]\n",
    "    del save\n",
    "    print(\"Training Set {0} {1}\".format(train_dataset.shape, train_labels.shape))\n",
    "    print(\"Test Set {0} {1}\".format(test_dataset.shape, test_labels.shape))\n",
    "test_labels[0:10, :]"
   ]
  },
  {
   "cell_type": "code",
   "execution_count": 112,
   "metadata": {},
   "outputs": [],
   "source": [
    "# input_x = tf.placeholder(tf.float32, [None, img_flat_size], name = \"input_x\") \n",
    "input_layer = tf.placeholder(tf.float32, [None, rows, cols, img_channels], name = \"input_layer\")\n",
    "y_true = tf.placeholder(tf.float32, [None, img_classes], name = \"y_true\")\n",
    "y_true_cls = tf.argmax(y_true, dimension = 1)"
   ]
  },
  {
   "cell_type": "code",
   "execution_count": 113,
   "metadata": {
    "collapsed": true
   },
   "outputs": [],
   "source": [
    "x_pretty = pt.wrap(input_layer)\n",
    "with pt.defaults_scope(activation_fn = tf.nn.relu):\n",
    "    y_pred, loss = x_pretty.\\\n",
    "        conv2d(kernel = 5, depth = 16, name = \"conv_layer_1\").\\\n",
    "        max_pool(kernel = 2, stride = 2).\\\n",
    "        conv2d(kernel = 5, depth = 36, name = \"conv_layer_2\").\\\n",
    "        max_pool(kernel = 2, stride = 2).\\\n",
    "        flatten().\\\n",
    "        fully_connected(size = 128, name = \"fc_layer_1\").\\\n",
    "        softmax_classifier(num_classes = img_classes, labels = y_true)"
   ]
  },
  {
   "cell_type": "code",
   "execution_count": 114,
   "metadata": {
    "collapsed": true
   },
   "outputs": [],
   "source": [
    "optimizer = tf.train.AdamOptimizer(learning_rate = 1e-4).minimize(loss)"
   ]
  },
  {
   "cell_type": "code",
   "execution_count": 115,
   "metadata": {
    "collapsed": true
   },
   "outputs": [],
   "source": [
    "y_pred_cls = tf.argmax(y_pred, dimension = 1)"
   ]
  },
  {
   "cell_type": "code",
   "execution_count": 116,
   "metadata": {
    "collapsed": true
   },
   "outputs": [],
   "source": [
    "correct_pred = tf.equal(y_true_cls, y_pred_cls)"
   ]
  },
  {
   "cell_type": "code",
   "execution_count": 117,
   "metadata": {
    "collapsed": true
   },
   "outputs": [],
   "source": [
    "accuracy = tf.reduce_mean(tf.cast(correct_pred, tf.float32))"
   ]
  },
  {
   "cell_type": "code",
   "execution_count": 118,
   "metadata": {
    "collapsed": true
   },
   "outputs": [],
   "source": [
    "sess = tf.Session()"
   ]
  },
  {
   "cell_type": "code",
   "execution_count": 119,
   "metadata": {
    "collapsed": true
   },
   "outputs": [],
   "source": [
    "sess.run(tf.global_variables_initializer())"
   ]
  },
  {
   "cell_type": "code",
   "execution_count": 120,
   "metadata": {
    "collapsed": true
   },
   "outputs": [],
   "source": [
    "train_batch_size = 64"
   ]
  },
  {
   "cell_type": "code",
   "execution_count": 121,
   "metadata": {
    "collapsed": true
   },
   "outputs": [],
   "source": [
    "total_iteration = 0\n",
    "\n",
    "def optimize(num_iteration):\n",
    "    global total_iteration\n",
    "    for i in range(total_iteration, total_iteration + num_iteration):\n",
    "        range_from = min(i - total_iteration, len(train_dataset))\n",
    "        range_to = min((range_from + train_batch_size), len(train_dataset))\n",
    "        if range_from == len(train_dataset):\n",
    "            break\n",
    "#         print(\"{0} - {1}\".format(range_from, range_to))\n",
    "        x_train = train_dataset[range_from:range_to, :, :, :]\n",
    "        y_train = train_labels[range_from:range_to,:]\n",
    "        feed_dict_train = {\n",
    "            input_layer: x_train,\n",
    "            y_true: y_train\n",
    "        }\n",
    "        \n",
    "        sess.run(optimizer, feed_dict = feed_dict_train)\n",
    "        \n",
    "\n",
    "    feed_dict_test = {\n",
    "        input_layer: test_dataset,\n",
    "        y_true: test_labels\n",
    "    }\n",
    "    acc = sess.run(accuracy, feed_dict = feed_dict_test)\n",
    "    print(\"Accuracy {:.2%}\".format(acc))\n",
    "\n",
    "    total_iteration += num_iteration\n",
    "    print(\"Total Iteration {0}\".format(total_iteration))"
   ]
  },
  {
   "cell_type": "code",
   "execution_count": 122,
   "metadata": {},
   "outputs": [
    {
     "name": "stdout",
     "output_type": "stream",
     "text": [
      "Accuracy 73.33%\n",
      "Total Iteration 10\n"
     ]
    }
   ],
   "source": [
    "optimize(10)"
   ]
  },
  {
   "cell_type": "code",
   "execution_count": 123,
   "metadata": {},
   "outputs": [
    {
     "name": "stdout",
     "output_type": "stream",
     "text": [
      "Accuracy 61.67%\n",
      "Total Iteration 110\n"
     ]
    }
   ],
   "source": [
    "optimize(100)"
   ]
  },
  {
   "cell_type": "code",
   "execution_count": 124,
   "metadata": {},
   "outputs": [
    {
     "name": "stdout",
     "output_type": "stream",
     "text": [
      "Accuracy 63.67%\n",
      "Total Iteration 120\n"
     ]
    }
   ],
   "source": [
    "optimize(10)"
   ]
  },
  {
   "cell_type": "code",
   "execution_count": 125,
   "metadata": {},
   "outputs": [
    {
     "name": "stdout",
     "output_type": "stream",
     "text": [
      "Accuracy 66.67%\n",
      "Total Iteration 130\n"
     ]
    }
   ],
   "source": [
    "optimize(10)"
   ]
  },
  {
   "cell_type": "code",
   "execution_count": 126,
   "metadata": {},
   "outputs": [
    {
     "name": "stdout",
     "output_type": "stream",
     "text": [
      "Accuracy 61.33%\n",
      "Total Iteration 160\n"
     ]
    }
   ],
   "source": [
    "optimize(30)"
   ]
  },
  {
   "cell_type": "code",
   "execution_count": null,
   "metadata": {
    "collapsed": true
   },
   "outputs": [],
   "source": []
  }
 ],
 "metadata": {
  "kernelspec": {
   "display_name": "tensorflowCPU",
   "language": "python",
   "name": "tensorflowcpu"
  },
  "language_info": {
   "codemirror_mode": {
    "name": "ipython",
    "version": 2
   },
   "file_extension": ".py",
   "mimetype": "text/x-python",
   "name": "python",
   "nbconvert_exporter": "python",
   "pygments_lexer": "ipython2",
   "version": "2.7.12"
  }
 },
 "nbformat": 4,
 "nbformat_minor": 2
}
