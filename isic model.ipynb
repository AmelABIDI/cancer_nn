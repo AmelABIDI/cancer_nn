{
 "cells": [
  {
   "cell_type": "code",
   "execution_count": 75,
   "metadata": {
    "collapsed": true
   },
   "outputs": [],
   "source": [
    "%matplotlib inline\n",
    "%matplotlib nbagg\n",
    "import pickle\n",
    "import tensorflow as tf\n",
    "import numpy as np\n",
    "import matplotlib.pyplot as plt\n",
    "import prettytensor as pt"
   ]
  },
  {
   "cell_type": "code",
   "execution_count": 76,
   "metadata": {
    "collapsed": true
   },
   "outputs": [],
   "source": [
    "rows, cols = 70, 100\n",
    "img_shape = (rows, cols)\n",
    "img_flat_size = rows * cols\n",
    "img_classes = 2\n",
    "img_channels = 3"
   ]
  },
  {
   "cell_type": "code",
   "execution_count": 77,
   "metadata": {
    "collapsed": true
   },
   "outputs": [],
   "source": [
    "resized_folder_path = \"/home/openroot/Tanmoy/Working Stuffs/myStuffs/havss-tf/ISIC-2017/resized/\""
   ]
  },
  {
   "cell_type": "code",
   "execution_count": 78,
   "metadata": {},
   "outputs": [
    {
     "name": "stdout",
     "output_type": "stream",
     "text": [
      "Training Set (648, 70, 100, 3) (648, 2)\n",
      "Test Set (200, 70, 100, 3) (200, 2)\n",
      "[[ 1.  0.]\n",
      " [ 1.  0.]\n",
      " [ 0.  1.]\n",
      " [ 1.  0.]\n",
      " [ 0.  1.]\n",
      " [ 1.  0.]\n",
      " [ 1.  0.]\n",
      " [ 1.  0.]\n",
      " [ 1.  0.]\n",
      " [ 1.  0.]]\n",
      "Test Dataset Info : [1, 0] = 149.0, [0, 1] = 51.0\n",
      "Train Dataset Info : [1, 0] = 331.0, [0, 1] = 317.0\n"
     ]
    }
   ],
   "source": [
    "isic_pickle_file = resized_folder_path + \"ISIC.pickle\"\n",
    "with open(isic_pickle_file, \"rb\") as f:\n",
    "    save = pickle.load(f)\n",
    "    train_dataset =  save[\"train_dataset\"]\n",
    "    train_labels =  save[\"train_labels\"]\n",
    "    test_dataset =  save[\"test_dataset\"]\n",
    "    test_labels =  save[\"test_labels\"]\n",
    "    del save\n",
    "    print(\"Training Set {0} {1}\".format(train_dataset.shape, train_labels.shape))\n",
    "    print(\"Test Set {0} {1}\".format(test_dataset.shape, test_labels.shape))\n",
    "print test_labels[0:10, :]\n",
    "test_dataset_info = np.sum(test_labels[:, :], axis = 0)\n",
    "print(\"Test Dataset Info : [1, 0] = {0}, [0, 1] = {1}\".format(test_dataset_info[0], test_dataset_info[1]))\n",
    "train_dataset_info = np.sum(train_labels[:, :], axis = 0)\n",
    "print(\"Train Dataset Info : [1, 0] = {0}, [0, 1] = {1}\".format(train_dataset_info[0], train_dataset_info[1]))"
   ]
  },
  {
   "cell_type": "code",
   "execution_count": 79,
   "metadata": {
    "collapsed": true
   },
   "outputs": [],
   "source": [
    "# input_x = tf.placeholder(tf.float32, [None, img_flat_size], name = \"input_x\") \n",
    "input_layer = tf.placeholder(tf.float32, [None, rows, cols, img_channels], name = \"input_layer\")\n",
    "y_true = tf.placeholder(tf.float32, [None, img_classes], name = \"y_true\")\n",
    "y_true_cls = tf.argmax(y_true, dimension = 1)"
   ]
  },
  {
   "cell_type": "code",
   "execution_count": 80,
   "metadata": {
    "collapsed": true
   },
   "outputs": [],
   "source": [
    "x_pretty = pt.wrap(input_layer)\n",
    "with pt.defaults_scope(activation_fn = tf.nn.relu):\n",
    "    y_pred, loss = x_pretty.\\\n",
    "        conv2d(kernel = 8, depth = 32, name = \"conv_layer_1\").\\\n",
    "        max_pool(kernel = 2, stride = 4).\\\n",
    "        conv2d(kernel = 4, depth = 64, name = \"conv_layer_2\").\\\n",
    "        max_pool(kernel = 2, stride = 2).\\\n",
    "        conv2d(kernel = 3, depth = 64, name = \"conv_layer_3\").\\\n",
    "        max_pool(kernel = 2, stride = 1).\\\n",
    "        conv2d(kernel = 2, depth = 128, name = \"conv_layer_3\").\\\n",
    "        max_pool(kernel = 2, stride = 1).\\\n",
    "        conv2d(kernel = 2, depth = 128, name = \"conv_layer_3\").\\\n",
    "        max_pool(kernel = 2, stride = 1).\\\n",
    "        flatten().\\\n",
    "        fully_connected(size = 1024, name = \"fc_layer_1\", activation_fn = tf.nn.relu).\\\n",
    "        fully_connected(size = 512, name = \"fc_layer_2\",  activation_fn = None).\\\n",
    "        softmax_classifier(num_classes = img_classes, labels = y_true)"
   ]
  },
  {
   "cell_type": "code",
   "execution_count": 81,
   "metadata": {
    "collapsed": true
   },
   "outputs": [],
   "source": [
    "optimizer = tf.train.GradientDescentOptimizer(learning_rate = 1e-4).minimize(loss)"
   ]
  },
  {
   "cell_type": "code",
   "execution_count": 82,
   "metadata": {
    "collapsed": true
   },
   "outputs": [],
   "source": [
    "y_pred_cls = tf.argmax(y_pred, dimension = 1)"
   ]
  },
  {
   "cell_type": "code",
   "execution_count": 83,
   "metadata": {
    "collapsed": true
   },
   "outputs": [],
   "source": [
    "correct_pred = tf.equal(y_true_cls, y_pred_cls)"
   ]
  },
  {
   "cell_type": "code",
   "execution_count": 84,
   "metadata": {
    "collapsed": true
   },
   "outputs": [],
   "source": [
    "accuracy = tf.reduce_mean(tf.cast(correct_pred, tf.float32))"
   ]
  },
  {
   "cell_type": "code",
   "execution_count": 85,
   "metadata": {
    "collapsed": true
   },
   "outputs": [],
   "source": [
    "train_batch_size = 128"
   ]
  },
  {
   "cell_type": "code",
   "execution_count": 86,
   "metadata": {
    "scrolled": true
   },
   "outputs": [
    {
     "name": "stdout",
     "output_type": "stream",
     "text": [
      "Variable Initialized\n",
      "0\n",
      "Loss : 0.714734494686\n",
      "128\n",
      "Loss : 0.659823656082\n",
      "256\n",
      "Loss : 0.582350373268\n",
      "384\n",
      "Loss : 0.809815227985\n",
      "512\n",
      "Loss : 0.736865878105\n",
      "120\n",
      "Loss : 0.679297327995\n",
      "248\n",
      "Loss : 0.620877146721\n",
      "376\n",
      "Loss : 0.744383573532\n",
      "504\n",
      "Loss : 0.677604079247\n",
      "112\n",
      "Loss : 0.693195700645\n",
      "Accuracy 60.50%\n",
      "True Value Class\n",
      "[0 0 1 0 1 0 0 0 0 0]\n",
      "Pred Value\n",
      "[[ 0.55968082  0.44031918]\n",
      " [ 0.54518092  0.45481914]\n",
      " [ 0.62046927  0.37953073]\n",
      " [ 0.56727356  0.43272647]\n",
      " [ 0.55781925  0.44218075]\n",
      " [ 0.53344387  0.46655607]\n",
      " [ 0.52727211  0.47272792]\n",
      " [ 0.50901663  0.49098334]\n",
      " [ 0.53077811  0.46922192]\n",
      " [ 0.52709639  0.47290358]\n",
      " [ 0.57243323  0.4275668 ]\n",
      " [ 0.52535057  0.47464946]\n",
      " [ 0.54822767  0.4517723 ]\n",
      " [ 0.49478802  0.50521201]\n",
      " [ 0.52680731  0.47319269]\n",
      " [ 0.57728481  0.42271519]\n",
      " [ 0.49117598  0.50882405]\n",
      " [ 0.5114485   0.48855141]\n",
      " [ 0.48555431  0.51444566]\n",
      " [ 0.51263416  0.48736587]]\n",
      "Pred Value Class\n",
      "[0 0 0 0 0 0 0 0 0 0 0 0 0 1 0 0 1 0 1 0 1 0 0 0 1 0 0 0 0 1 0 0 0 0 0 0 0\n",
      " 0 0 0 0 0 0 0 0 1 0 0 0 0 0 0 0 0 0 0 1 0 0 0 0 0 0 1 1 1 0 0 0 1 0 0 0 0\n",
      " 0 0 0 0 0 1 0 0 1 0 0 0 0 0 0 0 0 1 0 1 1 1 0 1 0 0 0 0 0 1 0 1 1 0 0 0 0\n",
      " 0 1 0 1 1 0 0 1 0 0 0 0 0 1 0 0 1 1 0 0 0 0 0 0 0 0 1 0 0 0 0 0 0 0 1 0 0\n",
      " 0 1 0 0 0 1 0 0 0 0 0 0 0 0 0 1 0 0 0 0 0 0 1 0 0 0 0 0 1 0 0 0 0 0 0 1 0\n",
      " 1 1 0 1 0 1 0 0 0 0 0 1 1 0 1]\n"
     ]
    }
   ],
   "source": [
    "num_steps = 10\n",
    "with tf.Session() as sess:\n",
    "    tf.global_variables_initializer().run()\n",
    "    print(\"Variable Initialized\")\n",
    "    for step in range(num_steps):\n",
    "        offset = (step * train_batch_size) % (train_labels.shape[0] - train_batch_size)\n",
    "        print offset\n",
    "        batch_train = train_dataset[offset:(offset + train_batch_size), :]\n",
    "        batch_labels = train_labels[offset:(offset + train_batch_size), :]\n",
    "        feed_dict_train = {\n",
    "            input_layer: batch_train,\n",
    "            y_true: batch_labels\n",
    "        }\n",
    "        \n",
    "        _, l = sess.run([optimizer, loss], feed_dict = feed_dict_train)\n",
    "        print(\"Loss : {0}\".format(l))\n",
    "        \n",
    "    feed_dict_test = {\n",
    "        input_layer: test_dataset,\n",
    "        y_true: test_labels\n",
    "    }\n",
    "    true_value_class, acc, pred_value, pred_value_class = sess.run([y_true_cls, accuracy, y_pred, y_pred_cls], feed_dict = feed_dict_test)\n",
    "    print(\"Accuracy {:.2%}\".format(acc))\n",
    "    print(\"True Value Class\")\n",
    "    print true_value_class[0:10]\n",
    "    print(\"Pred Value\")\n",
    "    print pred_value[0:20]\n",
    "    print(\"Pred Value Class\")\n",
    "    print pred_value_class"
   ]
  },
  {
   "cell_type": "code",
   "execution_count": null,
   "metadata": {
    "collapsed": true
   },
   "outputs": [],
   "source": []
  },
  {
   "cell_type": "code",
   "execution_count": null,
   "metadata": {
    "collapsed": true
   },
   "outputs": [],
   "source": []
  }
 ],
 "metadata": {
  "kernelspec": {
   "display_name": "tensorflowCPU",
   "language": "python",
   "name": "tensorflowcpu"
  },
  "language_info": {
   "codemirror_mode": {
    "name": "ipython",
    "version": 2
   },
   "file_extension": ".py",
   "mimetype": "text/x-python",
   "name": "python",
   "nbconvert_exporter": "python",
   "pygments_lexer": "ipython2",
   "version": "2.7.12"
  }
 },
 "nbformat": 4,
 "nbformat_minor": 2
}
