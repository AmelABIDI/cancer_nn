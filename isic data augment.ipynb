{
 "cells": [
  {
   "cell_type": "code",
   "execution_count": 610,
   "metadata": {
    "collapsed": true
   },
   "outputs": [],
   "source": [
    "import cv2, glob\n",
    "import numpy as np\n",
    "%matplotlib inline\n",
    "import matplotlib.pyplot as plt\n",
    "import matplotlib.gridspec as gridspec"
   ]
  },
  {
   "cell_type": "code",
   "execution_count": 1,
   "metadata": {
    "collapsed": true
   },
   "outputs": [],
   "source": [
    "image_folder_path = \"/home/openroot/Tanmoy/Working Stuffs/myStuffs/havss-tf/ISIC-2017/ISIC-2017/\"\n",
    "resized_folder_path = \"/home/openroot/Tanmoy/Working Stuffs/myStuffs/havss-tf/ISIC-2017/resized/\"\n",
    "image_augmented_path = \"/home/openroot/Tanmoy/Working Stuffs/myStuffs/havss-tf/ISIC-2017/augmented/\"\n",
    "image_extension = \".jpg\""
   ]
  },
  {
   "cell_type": "code",
   "execution_count": 612,
   "metadata": {
    "collapsed": true
   },
   "outputs": [],
   "source": [
    "def augmentBrightness(image):\n",
    "    temp_image = cv2.cvtColor(image, cv2.COLOR_RGB2HSV)\n",
    "    random_bright = 0.25 + np.random.uniform()\n",
    "    temp_image[:,:,2] = temp_image[:,:,2] * random_bright\n",
    "    temp_image = cv2.cvtColor(temp_image, cv2.COLOR_HSV2RGB)\n",
    "    return temp_image"
   ]
  },
  {
   "cell_type": "code",
   "execution_count": 613,
   "metadata": {
    "collapsed": true
   },
   "outputs": [],
   "source": [
    "def translateImage(image, translate_value):\n",
    "    rows, cols, ch = image.shape\n",
    "    trans_x = translate_value * np.random.uniform() - translate_value / 2\n",
    "    trans_y = translate_value * np.random.uniform() - translate_value / 2\n",
    "    trans_matrix = np.float32([[1, 0, trans_x], [0, 1, trans_y]])\n",
    "    trans_image = cv2.warpAffine(image, trans_matrix, (cols, rows))\n",
    "    return trans_image"
   ]
  },
  {
   "cell_type": "code",
   "execution_count": 614,
   "metadata": {
    "collapsed": true
   },
   "outputs": [],
   "source": [
    "def rotateImage(image, angle):\n",
    "    rows, cols, ch = image.shape\n",
    "    rot_matrix = cv2.getRotationMatrix2D((cols / 2, rows / 2), angle, 1)\n",
    "    rot_matrix = cv2.warpAffine(image, rot_matrix, (cols, rows))\n",
    "    return rot_matrix"
   ]
  },
  {
   "cell_type": "code",
   "execution_count": 615,
   "metadata": {
    "collapsed": true
   },
   "outputs": [],
   "source": [
    "def shearImage(image, shear_value):\n",
    "    rows, cols, ch = image.shape\n",
    "    pts1 = np.float32([[5, 5], [20, 5], [5, 20]])\n",
    "    pt1 = 5 + shear_value * np.random.uniform() - shear_value / 2\n",
    "    pt2 = 20 + shear_value * np.random.uniform() - shear_value / 2\n",
    "    pts2 = np.float32([[pt1, 5], [pt2, pt1], [5, pt2]])\n",
    "    shear_matrix = cv2.getAffineTransform(pts1, pts2)\n",
    "    shear_image = cv2.warpAffine(image, shear_matrix, (cols, rows))\n",
    "    return shear_image"
   ]
  },
  {
   "cell_type": "code",
   "execution_count": 638,
   "metadata": {
    "collapsed": true
   },
   "outputs": [],
   "source": [
    "def processImageData(image, angel_range, translate_value, shear_range):\n",
    "    input_image = cv2.imread(image, cv2.IMREAD_UNCHANGED)\n",
    "    output_image = rotateImage(input_image, angel_range)\n",
    "    output_image = translateImage(output_image, translate_value)\n",
    "    output_image = shearImage(output_image, shear_range)\n",
    "    output_image = augmentBrightness(output_image)\n",
    "    return output_image"
   ]
  },
  {
   "cell_type": "code",
   "execution_count": 639,
   "metadata": {
    "collapsed": true
   },
   "outputs": [],
   "source": [
    "def displayAugmentedImage(image, display = False):\n",
    "    image_name = image.split(\"/\")[-1].split(\".\")[0]\n",
    "    gs1 = gridspec.GridSpec(10, 10)\n",
    "    gs1.update(wspace=0.01, hspace=0.02) # set the spacing between axes. \n",
    "    plt.figure(figsize=(12,12))\n",
    "    for i in range(100):\n",
    "        if display:\n",
    "            ax1 = plt.subplot(gs1[i])\n",
    "            ax1.set_xticklabels([])\n",
    "            ax1.set_yticklabels([])\n",
    "            ax1.set_aspect('equal')\n",
    "            if i % 2:\n",
    "                augmented_img = processImageData(image, 20, 10, 5)\n",
    "            else:\n",
    "                augmented_img = processImageData(image, -20, 10, 5)\n",
    "            plt.subplot(10,10,i+1)\n",
    "            plt.imshow(augmented_img)\n",
    "            plt.axis('off') \n",
    "        else:\n",
    "            if i % 2:\n",
    "                augmented_img = processImageData(image, 20, 10, 5)\n",
    "            else:\n",
    "                augmented_img = processImageData(image, -20, 10, 5)\n",
    "        cv2.imwrite(image_augmented_path + image_name + \"_aug\" + str(i) + image_extension, augmented_img)\n",
    "    if display:\n",
    "        plt.show()"
   ]
  },
  {
   "cell_type": "code",
   "execution_count": 642,
   "metadata": {
    "collapsed": true
   },
   "outputs": [],
   "source": [
    "def augmentImageData():\n",
    "    image_files = glob.glob(image_folder_path + \"*\" + image_extension)\n",
    "    for index, image in enumerate(image_files):\n",
    "        print(\"Augmenting Image {0}\".format(image.split(\"/\")[-1]))\n",
    "#     displayAugmentedImage(image_files[3])\n",
    "        displayAugmentedImage(image)\n",
    "    print(\"Data Augmenting Done!!!\")"
   ]
  },
  {
   "cell_type": "code",
   "execution_count": 643,
   "metadata": {},
   "outputs": [
    {
     "name": "stdout",
     "output_type": "stream",
     "text": [
      "Augmenting Image ISIC_0000007.jpg\n",
      "Augmenting Image ISIC_0000016.jpg\n",
      "Augmenting Image ISIC_0000015.jpg\n",
      "Augmenting Image ISIC_0000012.jpg\n",
      "Augmenting Image ISIC_0000001.jpg\n",
      "Augmenting Image ISIC_0000002.jpg\n",
      "Augmenting Image ISIC_0000008.jpg\n",
      "Augmenting Image ISIC_0000004.jpg\n",
      "Augmenting Image ISIC_0000014.jpg\n",
      "Augmenting Image ISIC_0000009.jpg\n",
      "Augmenting Image ISIC_0000018.jpg\n",
      "Augmenting Image ISIC_0000010.jpg\n",
      "Augmenting Image ISIC_0000013.jpg\n",
      "Augmenting Image ISIC_0000017.jpg\n",
      "Augmenting Image ISIC_0000020.jpg\n",
      "Augmenting Image ISIC_0000000.jpg\n",
      "Augmenting Image ISIC_0000003.jpg\n",
      "Augmenting Image ISIC_0000011.jpg\n",
      "Augmenting Image ISIC_0000019.jpg\n",
      "Augmenting Image ISIC_0000006.jpg\n",
      "Data Augmenting Done!!!\n"
     ]
    },
    {
     "data": {
      "text/plain": [
       "<matplotlib.figure.Figure at 0x7f382ce03390>"
      ]
     },
     "metadata": {},
     "output_type": "display_data"
    },
    {
     "data": {
      "text/plain": [
       "<matplotlib.figure.Figure at 0x7f382d272310>"
      ]
     },
     "metadata": {},
     "output_type": "display_data"
    },
    {
     "data": {
      "text/plain": [
       "<matplotlib.figure.Figure at 0x7f382ebfa8d0>"
      ]
     },
     "metadata": {},
     "output_type": "display_data"
    },
    {
     "data": {
      "text/plain": [
       "<matplotlib.figure.Figure at 0x7f382d220c90>"
      ]
     },
     "metadata": {},
     "output_type": "display_data"
    },
    {
     "data": {
      "text/plain": [
       "<matplotlib.figure.Figure at 0x7f382f64cd90>"
      ]
     },
     "metadata": {},
     "output_type": "display_data"
    },
    {
     "data": {
      "text/plain": [
       "<matplotlib.figure.Figure at 0x7f382f662f50>"
      ]
     },
     "metadata": {},
     "output_type": "display_data"
    },
    {
     "data": {
      "text/plain": [
       "<matplotlib.figure.Figure at 0x7f382f0b4250>"
      ]
     },
     "metadata": {},
     "output_type": "display_data"
    },
    {
     "data": {
      "text/plain": [
       "<matplotlib.figure.Figure at 0x7f382f66af50>"
      ]
     },
     "metadata": {},
     "output_type": "display_data"
    },
    {
     "data": {
      "text/plain": [
       "<matplotlib.figure.Figure at 0x7f382f66df50>"
      ]
     },
     "metadata": {},
     "output_type": "display_data"
    },
    {
     "data": {
      "text/plain": [
       "<matplotlib.figure.Figure at 0x7f3836cec390>"
      ]
     },
     "metadata": {},
     "output_type": "display_data"
    },
    {
     "data": {
      "text/plain": [
       "<matplotlib.figure.Figure at 0x7f382ce2ca90>"
      ]
     },
     "metadata": {},
     "output_type": "display_data"
    },
    {
     "data": {
      "text/plain": [
       "<matplotlib.figure.Figure at 0x7f382ebf88d0>"
      ]
     },
     "metadata": {},
     "output_type": "display_data"
    },
    {
     "data": {
      "text/plain": [
       "<matplotlib.figure.Figure at 0x7f382ebf8e90>"
      ]
     },
     "metadata": {},
     "output_type": "display_data"
    },
    {
     "data": {
      "text/plain": [
       "<matplotlib.figure.Figure at 0x7f382f75d490>"
      ]
     },
     "metadata": {},
     "output_type": "display_data"
    },
    {
     "data": {
      "text/plain": [
       "<matplotlib.figure.Figure at 0x7f382f75da50>"
      ]
     },
     "metadata": {},
     "output_type": "display_data"
    },
    {
     "data": {
      "text/plain": [
       "<matplotlib.figure.Figure at 0x7f382f76c050>"
      ]
     },
     "metadata": {},
     "output_type": "display_data"
    },
    {
     "data": {
      "text/plain": [
       "<matplotlib.figure.Figure at 0x7f382f76c610>"
      ]
     },
     "metadata": {},
     "output_type": "display_data"
    },
    {
     "data": {
      "text/plain": [
       "<matplotlib.figure.Figure at 0x7f382f76cbd0>"
      ]
     },
     "metadata": {},
     "output_type": "display_data"
    },
    {
     "data": {
      "text/plain": [
       "<matplotlib.figure.Figure at 0x7f382f7601d0>"
      ]
     },
     "metadata": {},
     "output_type": "display_data"
    },
    {
     "data": {
      "text/plain": [
       "<matplotlib.figure.Figure at 0x7f382f760790>"
      ]
     },
     "metadata": {},
     "output_type": "display_data"
    }
   ],
   "source": [
    "augmentImageData()"
   ]
  },
  {
   "cell_type": "code",
   "execution_count": null,
   "metadata": {
    "collapsed": true
   },
   "outputs": [],
   "source": []
  },
  {
   "cell_type": "code",
   "execution_count": null,
   "metadata": {
    "collapsed": true
   },
   "outputs": [],
   "source": []
  }
 ],
 "metadata": {
  "kernelspec": {
   "display_name": "tensorflowCPU",
   "language": "python",
   "name": "tensorflowcpu"
  },
  "language_info": {
   "codemirror_mode": {
    "name": "ipython",
    "version": 2
   },
   "file_extension": ".py",
   "mimetype": "text/x-python",
   "name": "python",
   "nbconvert_exporter": "python",
   "pygments_lexer": "ipython2",
   "version": "2.7.12"
  }
 },
 "nbformat": 4,
 "nbformat_minor": 2
}
