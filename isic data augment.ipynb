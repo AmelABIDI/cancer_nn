{
 "cells": [
  {
   "cell_type": "code",
   "execution_count": 124,
   "metadata": {
    "collapsed": true
   },
   "outputs": [],
   "source": [
    "import cv2, glob\n",
    "import numpy as np\n",
    "%matplotlib inline\n",
    "import matplotlib.pyplot as plt\n",
    "import matplotlib.gridspec as gridspec"
   ]
  },
  {
   "cell_type": "code",
   "execution_count": 125,
   "metadata": {
    "collapsed": true
   },
   "outputs": [],
   "source": [
    "image_folder_path = \"/home/openroot/Tanmoy/Working Stuffs/myStuffs/ISIC-2017/ISIC-2017/\"\n",
    "\n",
    "resized_folder_path = \"/home/openroot/Tanmoy/Working Stuffs/myStuffs/havss-tf/ISIC-2017/resized/\"\n",
    "resized_image_size = (100, 70)\n",
    "\n",
    "image_augmented_path = \"/home/openroot/Tanmoy/Working Stuffs/myStuffs/havss-tf/ISIC-2017/augmented/\"\n",
    "image_extension = \".jpg\""
   ]
  },
  {
   "cell_type": "code",
   "execution_count": 126,
   "metadata": {
    "collapsed": true
   },
   "outputs": [],
   "source": [
    "def medianFilter(image):\n",
    "    kernel = np.ones((3, 3), np.float32) / 25\n",
    "    image = cv2.filter2D(image, -1, kernel)\n",
    "    return image"
   ]
  },
  {
   "cell_type": "code",
   "execution_count": 127,
   "metadata": {
    "collapsed": true
   },
   "outputs": [],
   "source": [
    "def normalizeImage(image):\n",
    "#     max_value = 1\n",
    "#     min_value = 0\n",
    "#     X_std = (X - X.min(axis=0)) / (X.max(axis=0) - X.min(axis=0))\n",
    "#     X_scaled = X_std * (max_value - min_value) + min_value\n",
    "#     return X_scaled\n",
    "    image_norm = (image - np.mean(image)) / np.std(image)\n",
    "    return image_norm"
   ]
  },
  {
   "cell_type": "code",
   "execution_count": 128,
   "metadata": {
    "collapsed": true
   },
   "outputs": [],
   "source": [
    "def resizeImage():\n",
    "    image_files = glob.glob(image_folder_path + \"*\" + image_extension)\n",
    "    for image in image_files:\n",
    "        try:\n",
    "            image_name = image.split(\"/\")[-1]\n",
    "            image = cv2.imread(image, cv2.IMREAD_UNCHANGED)\n",
    "            image = cv2.resize(image, resized_image_size)\n",
    "            cv2.imwrite(resized_folder_path +  image_name, image)\n",
    "        except Exception as e:\n",
    "            print(\"Unable To Reize {0}\".format(image_name))"
   ]
  },
  {
   "cell_type": "code",
   "execution_count": 129,
   "metadata": {
    "collapsed": true
   },
   "outputs": [],
   "source": [
    "def augmentBrightness(image):\n",
    "    temp_image = cv2.cvtColor(image, cv2.COLOR_RGB2HSV)\n",
    "    random_bright = 0.25 + np.random.uniform()\n",
    "    temp_image[:,:,2] = temp_image[:,:,2] * random_bright\n",
    "    temp_image = cv2.cvtColor(temp_image, cv2.COLOR_HSV2RGB)\n",
    "    return temp_image"
   ]
  },
  {
   "cell_type": "code",
   "execution_count": 130,
   "metadata": {
    "collapsed": true
   },
   "outputs": [],
   "source": [
    "def translateImage(image, translate_value):\n",
    "    rows, cols, ch = image.shape\n",
    "    trans_x = translate_value * np.random.uniform() - translate_value / 2\n",
    "    trans_y = translate_value * np.random.uniform() - translate_value / 2\n",
    "    trans_matrix = np.float32([[1, 0, trans_x], [0, 1, trans_y]])\n",
    "    trans_image = cv2.warpAffine(image, trans_matrix, (cols, rows))\n",
    "    return trans_image"
   ]
  },
  {
   "cell_type": "code",
   "execution_count": 131,
   "metadata": {
    "collapsed": true
   },
   "outputs": [],
   "source": [
    "def rotateImage(image, angle):\n",
    "    rows, cols, ch = image.shape\n",
    "    rot_matrix = cv2.getRotationMatrix2D((cols / 2, rows / 2), angle, 1)\n",
    "    rot_matrix = cv2.warpAffine(image, rot_matrix, (cols, rows))\n",
    "    return rot_matrix"
   ]
  },
  {
   "cell_type": "code",
   "execution_count": 132,
   "metadata": {
    "collapsed": true
   },
   "outputs": [],
   "source": [
    "def shearImage(image, shear_value):\n",
    "    rows, cols, ch = image.shape\n",
    "    pts1 = np.float32([[5, 5], [20, 5], [5, 20]])\n",
    "    pt1 = 5 + shear_value * np.random.uniform() - shear_value / 2\n",
    "    pt2 = 20 + shear_value * np.random.uniform() - shear_value / 2\n",
    "    pts2 = np.float32([[pt1, 5], [pt2, pt1], [5, pt2]])\n",
    "    shear_matrix = cv2.getAffineTransform(pts1, pts2)\n",
    "    shear_image = cv2.warpAffine(image, shear_matrix, (cols, rows))\n",
    "    return shear_image"
   ]
  },
  {
   "cell_type": "code",
   "execution_count": 133,
   "metadata": {
    "collapsed": true
   },
   "outputs": [],
   "source": [
    "def processImageData(input_image, angel_range, translate_value, shear_range):\n",
    "    output_image = medianFilter(input_image)\n",
    "    output_image = normalizeImage(output_image)\n",
    "    output_image = rotateImage(output_image, angel_range)\n",
    "    output_image = translateImage(output_image, translate_value)\n",
    "#         output_image = shearImage(output_image, shear_range)\n",
    "#         output_image = augmentBrightness(output_image)\n",
    "    return output_image"
   ]
  },
  {
   "cell_type": "code",
   "execution_count": 134,
   "metadata": {
    "collapsed": true
   },
   "outputs": [],
   "source": [
    "def displayAugmentedImage(image, display = False):\n",
    "    image_name = image.split(\"/\")[-1].split(\".\")[0]\n",
    "#     gs1 = gridspec.GridSpec(10, 10)\n",
    "#     gs1.update(wspace=0.01, hspace=0.02) # set the spacing between axes. \n",
    "#     plt.figure(figsize=(12,12))\n",
    "    try:\n",
    "        input_image = cv2.imread(image, cv2.IMREAD_UNCHANGED)\n",
    "        for i in range(70):\n",
    "#         if display:\n",
    "#             ax1 = plt.subplot(gs1[i])\n",
    "#             ax1.set_xticklabels([])\n",
    "#             ax1.set_yticklabels([])\n",
    "#             ax1.set_aspect('equal')\n",
    "#             if i % 2:\n",
    "#                 augmented_img = processImageData(input_image, 10, 10, 5)\n",
    "#             else:\n",
    "#                 augmented_img = processImageData(input_image, -10, 10, 5)\n",
    "#             plt.subplot(10,10,i+1)\n",
    "#             plt.imshow(augmented_img)\n",
    "#             plt.axis('off') \n",
    "#         else:\n",
    "            augmented_img = processImageData(input_image, int(np.random.uniform(-10, 10, size = 1)), 10, 5)\n",
    "            cv2.imwrite(image_augmented_path + image_name + \"_aug\" + str(i) + image_extension, augmented_img)\n",
    "    except Exception as e:\n",
    "        print(\"Unable To Process Image {0}\".format(image_name))\n",
    "#     if display:\n",
    "#         plt.show()"
   ]
  },
  {
   "cell_type": "code",
   "execution_count": 135,
   "metadata": {
    "collapsed": true
   },
   "outputs": [],
   "source": [
    "def augmentImageData():\n",
    "    image_files = glob.glob(image_folder_path + \"*\" + image_extension)\n",
    "    for index, image in enumerate(image_files):\n",
    "#         print(\"Augmenting Image {0}\".format(image.split(\"/\")[-1]))\n",
    "#     displayAugmentedImage(image_files[3], True)\n",
    "#     normalizeImage(\"/home/openroot/Tanmoy/Working Stuffs/myStuffs/havss-tf/ISIC-2017/ISIC-2017/ISIC_0000000.jpg\")\n",
    "#     print image_files[3]\n",
    "        displayAugmentedImage(image)\n",
    "    print(\"Data Augmenting Done!!!\")"
   ]
  },
  {
   "cell_type": "code",
   "execution_count": 136,
   "metadata": {},
   "outputs": [
    {
     "name": "stdout",
     "output_type": "stream",
     "text": [
      "Unable To Process Image ISIC_0015182\n",
      "Unable To Process Image ISIC_0015200\n",
      "Unable To Process Image ISIC_0015220\n",
      "Unable To Process Image ISIC_0015233\n",
      "Unable To Process Image ISIC_0015260\n",
      "Unable To Process Image ISIC_0015295\n",
      "Unable To Process Image ISIC_0015189\n",
      "Unable To Process Image ISIC_0015181\n",
      "Unable To Process Image ISIC_0015219\n",
      "Unable To Process Image ISIC_0015190\n",
      "Unable To Process Image ISIC_0015204\n",
      "Unable To Process Image ISIC_0015284\n",
      "Data Augmenting Done!!!\n"
     ]
    }
   ],
   "source": [
    "augmentImageData()"
   ]
  },
  {
   "cell_type": "code",
   "execution_count": null,
   "metadata": {
    "collapsed": true
   },
   "outputs": [],
   "source": []
  },
  {
   "cell_type": "code",
   "execution_count": null,
   "metadata": {
    "collapsed": true
   },
   "outputs": [],
   "source": []
  }
 ],
 "metadata": {
  "kernelspec": {
   "display_name": "tensorflowCPU",
   "language": "python",
   "name": "tensorflowcpu"
  },
  "language_info": {
   "codemirror_mode": {
    "name": "ipython",
    "version": 2
   },
   "file_extension": ".py",
   "mimetype": "text/x-python",
   "name": "python",
   "nbconvert_exporter": "python",
   "pygments_lexer": "ipython2",
   "version": "2.7.12"
  }
 },
 "nbformat": 4,
 "nbformat_minor": 2
}
